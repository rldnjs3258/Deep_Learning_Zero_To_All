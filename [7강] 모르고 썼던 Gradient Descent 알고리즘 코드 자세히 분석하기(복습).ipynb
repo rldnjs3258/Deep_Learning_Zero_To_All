{
 "cells": [
  {
   "cell_type": "markdown",
   "metadata": {},
   "source": [
    "# [7강] 모르고 썼던 Gradient Descent 알고리즘 코드 자세히 분석하기(복습)"
   ]
  },
  {
   "cell_type": "code",
   "execution_count": 1,
   "metadata": {},
   "outputs": [],
   "source": [
    "import tensorflow as tf\n",
    "x_data = [1, 2, 3]\n",
    "y_data = [1, 2, 3]"
   ]
  },
  {
   "cell_type": "code",
   "execution_count": 2,
   "metadata": {},
   "outputs": [],
   "source": [
    "W = tf. Variable(tf.random_normal([1]), name = 'weight')\n",
    "X = tf.placeholder(tf.float32)\n",
    "Y = tf.placeholder(tf.float32)"
   ]
  },
  {
   "cell_type": "code",
   "execution_count": 3,
   "metadata": {},
   "outputs": [],
   "source": [
    "hypothesis = X*W\n",
    "cost = tf.reduce_sum(tf.square(hypothesis - Y))"
   ]
  },
  {
   "cell_type": "markdown",
   "metadata": {},
   "source": [
    "#### (방법1) 모르고 썼던 Gradient Descent 알고리즘 코드 자세히 분석하기. 직접 미분하는 코드 작성하기!"
   ]
  },
  {
   "cell_type": "code",
   "execution_count": 4,
   "metadata": {},
   "outputs": [],
   "source": [
    "learning_rate = 0.1 #학습 learning_rate\n",
    "gradient = tf.reduce_mean((W*X - Y)*X) #Gradient\n",
    "descent = W-learning_rate * gradient #이론의 W에서 그 뒷부분(기울기)을 빼는 것에 해당한다. 이 과정을 통해 Gradient Descent의 U자 그래프를 따라 기울기를 깎으며 W의 값을 자동으로 조정하게 한다. W에서 learning_rate과 gradient를 곱한 값을 빼서 새로운 W 값을 얻는다.\n",
    "update = W.assign(descent) #새로운 W 값을 assign 해 준다."
   ]
  },
  {
   "cell_type": "markdown",
   "metadata": {},
   "source": [
    "#### (방법2, 추천) optimizer를 이용해서 cost를 minimize 하라고 명령하는 방법을 이용하면 위처럼 직접 미분하는 코드를 작성하지 않아도 컴퓨터에서 자동으로 최소화되어 U자 그래프를 따라 기울기를 깎으며 W 값을 조정해 준다. optimizer의 코드는 아래와 같다.\n",
    "#### optimizer = tf.train.GradientDescentOptimizer(learning_rate = 0.1)\n",
    "#### train = optimizer.minimize(cost)"
   ]
  },
  {
   "cell_type": "code",
   "execution_count": 5,
   "metadata": {},
   "outputs": [],
   "source": [
    "sess = tf.Session()\n",
    "sess.run(tf.global_variables_initializer())"
   ]
  },
  {
   "cell_type": "code",
   "execution_count": 7,
   "metadata": {},
   "outputs": [
    {
     "name": "stdout",
     "output_type": "stream",
     "text": [
      "0 1.2003888 [0.7071825]\n",
      "1 0.34144378 [0.8438307]\n",
      "2 0.09712176 [0.9167097]\n",
      "3 0.027625784 [0.9555785]\n",
      "4 0.007858013 [0.9763085]\n",
      "5 0.0022351714 [0.98736453]\n",
      "6 0.00063577906 [0.9932611]\n",
      "7 0.00018084452 [0.9964059]\n",
      "8 5.1442294e-05 [0.9980831]\n",
      "9 1.4632475e-05 [0.99897766]\n",
      "10 4.162369e-06 [0.99945474]\n",
      "11 1.1838911e-06 [0.9997092]\n",
      "12 3.3685723e-07 [0.9998449]\n",
      "13 9.582243e-08 [0.99991727]\n",
      "14 2.7236524e-08 [0.9999559]\n",
      "15 7.751954e-09 [0.99997646]\n",
      "16 2.209891e-09 [0.9999874]\n",
      "17 6.375167e-10 [0.99999326]\n",
      "18 1.7905677e-10 [0.9999964]\n",
      "19 5.0931703e-11 [0.9999981]\n",
      "20 1.4740209e-11 [0.999999]\n"
     ]
    }
   ],
   "source": [
    "for step in range(21):\n",
    "    sess.run(update, feed_dict = {X:x_data, Y:y_data}) #update를 실행시켜서, W의 값을 지속적으로 U자 그래프를 따라 내려가게 한다.\n",
    "    print(step, sess.run(cost, feed_dict = {X:x_data, Y:y_data}), sess.run(W)) #cost와 W의 값을 확인한다."
   ]
  },
  {
   "cell_type": "code",
   "execution_count": null,
   "metadata": {},
   "outputs": [],
   "source": []
  }
 ],
 "metadata": {
  "kernelspec": {
   "display_name": "Python [conda env:tensorflow_env]",
   "language": "python",
   "name": "conda-env-tensorflow_env-py"
  },
  "language_info": {
   "codemirror_mode": {
    "name": "ipython",
    "version": 3
   },
   "file_extension": ".py",
   "mimetype": "text/x-python",
   "name": "python",
   "nbconvert_exporter": "python",
   "pygments_lexer": "ipython3",
   "version": "3.5.6"
  }
 },
 "nbformat": 4,
 "nbformat_minor": 2
}
